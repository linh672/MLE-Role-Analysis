{
 "cells": [
  {
   "cell_type": "code",
   "execution_count": 1,
   "id": "be2d8f5a",
   "metadata": {},
   "outputs": [],
   "source": [
    "import ast\n",
    "import pandas as pd\n",
    "import seaborn as sns\n",
    "from datasets import load_dataset\n",
    "import matplotlib.pyplot as plt\n",
    "\n",
    "#loading data\n",
    "ds = load_dataset('lukebarousse/data_jobs')\n",
    "df = ds['train'].to_pandas()\n",
    "\n",
    "#Data Cleanup\n",
    "df['job_posted_date'] = pd.to_datetime(df['job_posted_date'])\n",
    "df['job_skills'] = df['job_skills'].apply(lambda x: ast.literal_eval(x) if pd.notna(x) else x)"
   ]
  },
  {
   "cell_type": "code",
   "execution_count": 2,
   "id": "6544cc9a",
   "metadata": {},
   "outputs": [],
   "source": [
    "df_MLE_US = df[(df['job_country'] == 'United States') & (df['job_title_short'] == 'Machine Learning Engineer')].copy()"
   ]
  },
  {
   "cell_type": "code",
   "execution_count": 3,
   "id": "f05676b3",
   "metadata": {},
   "outputs": [],
   "source": [
    "df_MLE_US = df_MLE_US.dropna(subset='salary_year_avg')"
   ]
  },
  {
   "cell_type": "code",
   "execution_count": 4,
   "id": "50238e4a",
   "metadata": {},
   "outputs": [],
   "source": [
    "df_MLE_US_exploded = df_MLE_US.explode('job_skills')"
   ]
  },
  {
   "cell_type": "code",
   "execution_count": 5,
   "id": "2500fc87",
   "metadata": {},
   "outputs": [],
   "source": [
    "df_MLE_skills = df_MLE_US_exploded.groupby(by='job_skills')['salary_year_avg'].agg(['count', 'median']).sort_values(by='count', ascending=False)\n",
    "\n",
    "df_MLE_skills = df_MLE_skills.rename(columns={'count': 'skill_count', 'median': 'median_salary'})\n",
    "\n",
    "df_MLE_count = len(df_MLE_US)\n",
    "\n",
    "df_MLE_skills['skill_percent'] = df_MLE_skills['skill_count'] / df_MLE_count *100"
   ]
  },
  {
   "cell_type": "code",
   "execution_count": 6,
   "id": "20406be1",
   "metadata": {},
   "outputs": [],
   "source": [
    "skill_percent = 10\n",
    "df_MLE_skills = df_MLE_skills[df_MLE_skills['skill_percent'] > skill_percent]"
   ]
  },
  {
   "cell_type": "code",
   "execution_count": 7,
   "id": "292756e5",
   "metadata": {},
   "outputs": [
    {
     "data": {
      "application/vnd.microsoft.datawrangler.viewer.v0+json": {
       "columns": [
        {
         "name": "job_skills",
         "rawType": "object",
         "type": "string"
        },
        {
         "name": "skill_count",
         "rawType": "int64",
         "type": "integer"
        },
        {
         "name": "median_salary",
         "rawType": "float64",
         "type": "float"
        },
        {
         "name": "skill_percent",
         "rawType": "float64",
         "type": "float"
        }
       ],
       "conversionMethod": "pd.DataFrame",
       "ref": "87c43488-6cc8-4596-90c9-471aa28a40cd",
       "rows": [
        [
         "python",
         "83",
         "150000.0",
         "64.84375"
        ],
        [
         "tensorflow",
         "48",
         "150000.0",
         "37.5"
        ],
        [
         "pytorch",
         "46",
         "166000.0",
         "35.9375"
        ],
        [
         "aws",
         "34",
         "154812.5",
         "26.5625"
        ],
        [
         "java",
         "33",
         "166000.0",
         "25.78125"
        ],
        [
         "sql",
         "27",
         "137388.5",
         "21.09375"
        ],
        [
         "spark",
         "21",
         "172500.0",
         "16.40625"
        ],
        [
         "r",
         "19",
         "137388.5",
         "14.84375"
        ],
        [
         "go",
         "17",
         "166000.0",
         "13.28125"
        ],
        [
         "c++",
         "17",
         "179000.0",
         "13.28125"
        ],
        [
         "kubernetes",
         "17",
         "139000.0",
         "13.28125"
        ],
        [
         "gcp",
         "16",
         "158500.0",
         "12.5"
        ],
        [
         "azure",
         "16",
         "146250.0",
         "12.5"
        ],
        [
         "scikit-learn",
         "15",
         "135000.0",
         "11.71875"
        ],
        [
         "hadoop",
         "15",
         "152625.0",
         "11.71875"
        ],
        [
         "docker",
         "14",
         "123014.5",
         "10.9375"
        ]
       ],
       "shape": {
        "columns": 3,
        "rows": 16
       }
      },
      "text/html": [
       "<div>\n",
       "<style scoped>\n",
       "    .dataframe tbody tr th:only-of-type {\n",
       "        vertical-align: middle;\n",
       "    }\n",
       "\n",
       "    .dataframe tbody tr th {\n",
       "        vertical-align: top;\n",
       "    }\n",
       "\n",
       "    .dataframe thead th {\n",
       "        text-align: right;\n",
       "    }\n",
       "</style>\n",
       "<table border=\"1\" class=\"dataframe\">\n",
       "  <thead>\n",
       "    <tr style=\"text-align: right;\">\n",
       "      <th></th>\n",
       "      <th>skill_count</th>\n",
       "      <th>median_salary</th>\n",
       "      <th>skill_percent</th>\n",
       "    </tr>\n",
       "    <tr>\n",
       "      <th>job_skills</th>\n",
       "      <th></th>\n",
       "      <th></th>\n",
       "      <th></th>\n",
       "    </tr>\n",
       "  </thead>\n",
       "  <tbody>\n",
       "    <tr>\n",
       "      <th>python</th>\n",
       "      <td>83</td>\n",
       "      <td>150000.0</td>\n",
       "      <td>64.84375</td>\n",
       "    </tr>\n",
       "    <tr>\n",
       "      <th>tensorflow</th>\n",
       "      <td>48</td>\n",
       "      <td>150000.0</td>\n",
       "      <td>37.50000</td>\n",
       "    </tr>\n",
       "    <tr>\n",
       "      <th>pytorch</th>\n",
       "      <td>46</td>\n",
       "      <td>166000.0</td>\n",
       "      <td>35.93750</td>\n",
       "    </tr>\n",
       "    <tr>\n",
       "      <th>aws</th>\n",
       "      <td>34</td>\n",
       "      <td>154812.5</td>\n",
       "      <td>26.56250</td>\n",
       "    </tr>\n",
       "    <tr>\n",
       "      <th>java</th>\n",
       "      <td>33</td>\n",
       "      <td>166000.0</td>\n",
       "      <td>25.78125</td>\n",
       "    </tr>\n",
       "    <tr>\n",
       "      <th>sql</th>\n",
       "      <td>27</td>\n",
       "      <td>137388.5</td>\n",
       "      <td>21.09375</td>\n",
       "    </tr>\n",
       "    <tr>\n",
       "      <th>spark</th>\n",
       "      <td>21</td>\n",
       "      <td>172500.0</td>\n",
       "      <td>16.40625</td>\n",
       "    </tr>\n",
       "    <tr>\n",
       "      <th>r</th>\n",
       "      <td>19</td>\n",
       "      <td>137388.5</td>\n",
       "      <td>14.84375</td>\n",
       "    </tr>\n",
       "    <tr>\n",
       "      <th>go</th>\n",
       "      <td>17</td>\n",
       "      <td>166000.0</td>\n",
       "      <td>13.28125</td>\n",
       "    </tr>\n",
       "    <tr>\n",
       "      <th>c++</th>\n",
       "      <td>17</td>\n",
       "      <td>179000.0</td>\n",
       "      <td>13.28125</td>\n",
       "    </tr>\n",
       "    <tr>\n",
       "      <th>kubernetes</th>\n",
       "      <td>17</td>\n",
       "      <td>139000.0</td>\n",
       "      <td>13.28125</td>\n",
       "    </tr>\n",
       "    <tr>\n",
       "      <th>gcp</th>\n",
       "      <td>16</td>\n",
       "      <td>158500.0</td>\n",
       "      <td>12.50000</td>\n",
       "    </tr>\n",
       "    <tr>\n",
       "      <th>azure</th>\n",
       "      <td>16</td>\n",
       "      <td>146250.0</td>\n",
       "      <td>12.50000</td>\n",
       "    </tr>\n",
       "    <tr>\n",
       "      <th>scikit-learn</th>\n",
       "      <td>15</td>\n",
       "      <td>135000.0</td>\n",
       "      <td>11.71875</td>\n",
       "    </tr>\n",
       "    <tr>\n",
       "      <th>hadoop</th>\n",
       "      <td>15</td>\n",
       "      <td>152625.0</td>\n",
       "      <td>11.71875</td>\n",
       "    </tr>\n",
       "    <tr>\n",
       "      <th>docker</th>\n",
       "      <td>14</td>\n",
       "      <td>123014.5</td>\n",
       "      <td>10.93750</td>\n",
       "    </tr>\n",
       "  </tbody>\n",
       "</table>\n",
       "</div>"
      ],
      "text/plain": [
       "              skill_count  median_salary  skill_percent\n",
       "job_skills                                             \n",
       "python                 83       150000.0       64.84375\n",
       "tensorflow             48       150000.0       37.50000\n",
       "pytorch                46       166000.0       35.93750\n",
       "aws                    34       154812.5       26.56250\n",
       "java                   33       166000.0       25.78125\n",
       "sql                    27       137388.5       21.09375\n",
       "spark                  21       172500.0       16.40625\n",
       "r                      19       137388.5       14.84375\n",
       "go                     17       166000.0       13.28125\n",
       "c++                    17       179000.0       13.28125\n",
       "kubernetes             17       139000.0       13.28125\n",
       "gcp                    16       158500.0       12.50000\n",
       "azure                  16       146250.0       12.50000\n",
       "scikit-learn           15       135000.0       11.71875\n",
       "hadoop                 15       152625.0       11.71875\n",
       "docker                 14       123014.5       10.93750"
      ]
     },
     "execution_count": 7,
     "metadata": {},
     "output_type": "execute_result"
    }
   ],
   "source": [
    "df_MLE_skills"
   ]
  },
  {
   "cell_type": "code",
   "execution_count": 8,
   "id": "a563f2ea",
   "metadata": {},
   "outputs": [
    {
     "data": {
      "image/png": "[encoded data removed]",
      "text/plain": [
       "<Figure size 640x480 with 1 Axes>"
      ]
     },
     "metadata": {},
     "output_type": "display_data"
    }
   ],
   "source": [
    "from adjustText import adjust_text\n",
    "\n",
    "sns.scatterplot(data=df_MLE_skills, x='skill_percent', y='median_salary')\n",
    "sns.despine()\n",
    "\n",
    "texts = []\n",
    "for i, txt in enumerate(df_MLE_skills.index):\n",
    "    texts.append(plt.text(df_MLE_skills['skill_percent'].iloc[i], df_MLE_skills['median_salary'].iloc[i], txt))\n",
    "\n",
    "adjust_text(texts, arrowprops=dict(arrowstyle='->', color='gray'))\n",
    "\n",
    "from matplotlib.ticker import PercentFormatter\n",
    "ax = plt.gca()\n",
    "ax.xaxis.set_major_formatter(PercentFormatter(decimals=0))\n",
    "ax.yaxis.set_major_formatter(plt.FuncFormatter(lambda x, pos: f'${int(x/1000)}K'))\n",
    "\n",
    "plt.xlabel('Percent of Job Postings')\n",
    "plt.ylabel('Median Yearly Salary')\n",
    "plt.title(f'Most Optimal Skills for Machine Learning in the US')\n",
    "\n",
    "plt.tight_layout()\n",
    "plt.show()"
   ]
  },
  {
   "cell_type": "code",
   "execution_count": 9,
   "id": "2d52cd35",
   "metadata": {},
   "outputs": [
    {
     "data": {
      "text/plain": [
       "{'analyst_tools': ['ssis',\n",
       "  'esquisse',\n",
       "  'tableau',\n",
       "  'outlook',\n",
       "  'powerpoint',\n",
       "  'looker',\n",
       "  'powerbi',\n",
       "  'sharepoint',\n",
       "  'datarobot',\n",
       "  'spreadsheet',\n",
       "  'excel',\n",
       "  'msaccess',\n",
       "  'sap',\n",
       "  'word',\n",
       "  'alteryx',\n",
       "  'nuix',\n",
       "  'qlik',\n",
       "  'spss',\n",
       "  'cognos',\n",
       "  'visio',\n",
       "  'sas',\n",
       "  'ssrs',\n",
       "  'sheets',\n",
       "  'ms access',\n",
       "  'splunk',\n",
       "  'dax',\n",
       "  'power bi',\n",
       "  'microstrategy'],\n",
       " 'programming': ['matlab',\n",
       "  'julia',\n",
       "  'swift',\n",
       "  'erlang',\n",
       "  'delphi',\n",
       "  'sass',\n",
       "  'visualbasic',\n",
       "  'bash',\n",
       "  'c#',\n",
       "  'css',\n",
       "  'c',\n",
       "  'no-sql',\n",
       "  't-sql',\n",
       "  'assembly',\n",
       "  'ocaml',\n",
       "  'scala',\n",
       "  'mongo',\n",
       "  'haskell',\n",
       "  'fortran',\n",
       "  'crystal',\n",
       "  'mongodb',\n",
       "  'ruby',\n",
       "  'powershell',\n",
       "  'vba',\n",
       "  'dart',\n",
       "  'apl',\n",
       "  'r',\n",
       "  'pascal',\n",
       "  'vb.net',\n",
       "  'cobol',\n",
       "  'nosql',\n",
       "  'elixir',\n",
       "  'visual basic',\n",
       "  'shell',\n",
       "  'perl',\n",
       "  'f#',\n",
       "  'go',\n",
       "  'solidity',\n",
       "  'objective-c',\n",
       "  'clojure',\n",
       "  'python',\n",
       "  'lisp',\n",
       "  'java',\n",
       "  'kotlin',\n",
       "  'sas',\n",
       "  'sql',\n",
       "  'typescript',\n",
       "  'golang',\n",
       "  'groovy',\n",
       "  'rust',\n",
       "  'lua',\n",
       "  'html',\n",
       "  'javascript',\n",
       "  'php',\n",
       "  'c++'],\n",
       " 'cloud': ['linode',\n",
       "  'colocation',\n",
       "  'redshift',\n",
       "  'oracle',\n",
       "  'ibm cloud',\n",
       "  'gcp',\n",
       "  'heroku',\n",
       "  'snowflake',\n",
       "  'aws',\n",
       "  'azure',\n",
       "  'databricks',\n",
       "  'ovh',\n",
       "  'vmware',\n",
       "  'watson',\n",
       "  'aurora',\n",
       "  'firebase',\n",
       "  'openstack',\n",
       "  'digitalocean',\n",
       "  'bigquery'],\n",
       " 'libraries': ['plotly',\n",
       "  'jupyter',\n",
       "  'spark',\n",
       "  'hadoop',\n",
       "  'ggplot2',\n",
       "  'gdpr',\n",
       "  'rshiny',\n",
       "  'mxnet',\n",
       "  'airflow',\n",
       "  'huggingface',\n",
       "  'spring',\n",
       "  'tidyr',\n",
       "  'chainer',\n",
       "  'graphql',\n",
       "  'pytorch',\n",
       "  'react',\n",
       "  'cordova',\n",
       "  'mlpack',\n",
       "  'tensorflow',\n",
       "  'theano',\n",
       "  'hugging face',\n",
       "  'keras',\n",
       "  'ionic',\n",
       "  'gtx',\n",
       "  'dplyr',\n",
       "  'xamarin',\n",
       "  'kafka',\n",
       "  'nltk',\n",
       "  'opencv',\n",
       "  'dlib',\n",
       "  'qt',\n",
       "  'flutter',\n",
       "  'capacitor',\n",
       "  'tidyverse',\n",
       "  'shogun',\n",
       "  'electron',\n",
       "  'selenium',\n",
       "  'pandas',\n",
       "  'pyspark',\n",
       "  'scikit-learn',\n",
       "  'matplotlib',\n",
       "  'seaborn',\n",
       "  'mlr',\n",
       "  'numpy'],\n",
       " 'other': ['jenkins',\n",
       "  'codecommit',\n",
       "  'pulumi',\n",
       "  'chef',\n",
       "  'bitbucket',\n",
       "  'svn',\n",
       "  'kubernetes',\n",
       "  'git',\n",
       "  'gitlab',\n",
       "  'homebrew',\n",
       "  'unity',\n",
       "  'flow',\n",
       "  'terraform',\n",
       "  'npm',\n",
       "  'terminal',\n",
       "  'unreal',\n",
       "  'github',\n",
       "  'puppet',\n",
       "  'ansible',\n",
       "  'docker',\n",
       "  'atlassian',\n",
       "  'yarn'],\n",
       " 'databases': ['sqlserver',\n",
       "  'sqlite',\n",
       "  'couchbase',\n",
       "  'elasticsearch',\n",
       "  'postgresql',\n",
       "  'db2',\n",
       "  'mongodb',\n",
       "  'firestore',\n",
       "  'mysql',\n",
       "  'redis',\n",
       "  'dynamodb',\n",
       "  'neo4j',\n",
       "  'cassandra',\n",
       "  'mariadb',\n",
       "  'firebase',\n",
       "  'sql server',\n",
       "  'couchdb'],\n",
       " 'os': ['linux',\n",
       "  'ubuntu',\n",
       "  'macos',\n",
       "  'debian',\n",
       "  'redhat',\n",
       "  'centos',\n",
       "  'kali',\n",
       "  'arch',\n",
       "  'unix',\n",
       "  'windows',\n",
       "  'fedora',\n",
       "  'suse',\n",
       "  'wsl'],\n",
       " 'async': ['workfront',\n",
       "  'planner',\n",
       "  'jira',\n",
       "  'asana',\n",
       "  'monday.com',\n",
       "  'wrike',\n",
       "  'microsoft lists',\n",
       "  'wimi',\n",
       "  'notion',\n",
       "  'trello',\n",
       "  'dingtalk',\n",
       "  'airtable',\n",
       "  'smartsheet',\n",
       "  'clickup',\n",
       "  'confluence'],\n",
       " 'webframeworks': ['nuxt.js',\n",
       "  'ember.js',\n",
       "  'symfony',\n",
       "  'gatsby',\n",
       "  'asp.netcore',\n",
       "  'asp.net',\n",
       "  'svelte',\n",
       "  'laravel',\n",
       "  'vue.js',\n",
       "  'fastify',\n",
       "  'express',\n",
       "  'angular.js',\n",
       "  'vue',\n",
       "  'ruby',\n",
       "  'blazor',\n",
       "  'rubyon rails',\n",
       "  'deno',\n",
       "  'drupal',\n",
       "  'ruby on rails',\n",
       "  'asp.net core',\n",
       "  'next.js',\n",
       "  'angular',\n",
       "  'django',\n",
       "  'phoenix',\n",
       "  'node.js',\n",
       "  'play framework',\n",
       "  'node',\n",
       "  'react.js',\n",
       "  'jquery',\n",
       "  'fastapi',\n",
       "  'flask'],\n",
       " 'sync': ['twilio',\n",
       "  'mattermost',\n",
       "  'rocketchat',\n",
       "  'wire',\n",
       "  'unify',\n",
       "  'microsoft teams',\n",
       "  'google chat',\n",
       "  'webex',\n",
       "  'zoom',\n",
       "  'slack',\n",
       "  'symphony',\n",
       "  'ringcentral']}"
      ]
     },
     "execution_count": 9,
     "metadata": {},
     "output_type": "execute_result"
    }
   ],
   "source": [
    "df_technology = df['job_type_skills'].copy()\n",
    "\n",
    "df_technology = df_technology.drop_duplicates()\n",
    "\n",
    "df_technology = df_technology.dropna()\n",
    "\n",
    "technoogy_dict = {}\n",
    "for row in df_technology:\n",
    "    row_dict = ast.literal_eval(row)\n",
    "    for key, value in row_dict.items():\n",
    "        if key in technoogy_dict:\n",
    "            technoogy_dict[key] += value\n",
    "        else:\n",
    "            technoogy_dict[key] = value\n",
    "\n",
    "for key, value in technoogy_dict.items():\n",
    "    technoogy_dict[key] = list(set(value))\n",
    "\n",
    "technoogy_dict"
   ]
  },
  {
   "cell_type": "code",
   "execution_count": 10,
   "id": "cb271d5e",
   "metadata": {},
   "outputs": [
    {
     "data": {
      "application/vnd.microsoft.datawrangler.viewer.v0+json": {
       "columns": [
        {
         "name": "index",
         "rawType": "int64",
         "type": "integer"
        },
        {
         "name": "technology",
         "rawType": "object",
         "type": "string"
        },
        {
         "name": "skills",
         "rawType": "object",
         "type": "string"
        }
       ],
       "conversionMethod": "pd.DataFrame",
       "ref": "bb17d723-97e4-4c55-baed-fbbc1cd06445",
       "rows": [
        [
         "0",
         "analyst_tools",
         "ssis"
        ],
        [
         "0",
         "analyst_tools",
         "esquisse"
        ],
        [
         "0",
         "analyst_tools",
         "tableau"
        ],
        [
         "0",
         "analyst_tools",
         "outlook"
        ],
        [
         "0",
         "analyst_tools",
         "powerpoint"
        ],
        [
         "0",
         "analyst_tools",
         "looker"
        ],
        [
         "0",
         "analyst_tools",
         "powerbi"
        ],
        [
         "0",
         "analyst_tools",
         "sharepoint"
        ],
        [
         "0",
         "analyst_tools",
         "datarobot"
        ],
        [
         "0",
         "analyst_tools",
         "spreadsheet"
        ],
        [
         "0",
         "analyst_tools",
         "excel"
        ],
        [
         "0",
         "analyst_tools",
         "msaccess"
        ],
        [
         "0",
         "analyst_tools",
         "sap"
        ],
        [
         "0",
         "analyst_tools",
         "word"
        ],
        [
         "0",
         "analyst_tools",
         "alteryx"
        ],
        [
         "0",
         "analyst_tools",
         "nuix"
        ],
        [
         "0",
         "analyst_tools",
         "qlik"
        ],
        [
         "0",
         "analyst_tools",
         "spss"
        ],
        [
         "0",
         "analyst_tools",
         "cognos"
        ],
        [
         "0",
         "analyst_tools",
         "visio"
        ],
        [
         "0",
         "analyst_tools",
         "sas"
        ],
        [
         "0",
         "analyst_tools",
         "ssrs"
        ],
        [
         "0",
         "analyst_tools",
         "sheets"
        ],
        [
         "0",
         "analyst_tools",
         "ms access"
        ],
        [
         "0",
         "analyst_tools",
         "splunk"
        ],
        [
         "0",
         "analyst_tools",
         "dax"
        ],
        [
         "0",
         "analyst_tools",
         "power bi"
        ],
        [
         "0",
         "analyst_tools",
         "microstrategy"
        ],
        [
         "1",
         "programming",
         "matlab"
        ],
        [
         "1",
         "programming",
         "julia"
        ],
        [
         "1",
         "programming",
         "swift"
        ],
        [
         "1",
         "programming",
         "erlang"
        ],
        [
         "1",
         "programming",
         "delphi"
        ],
        [
         "1",
         "programming",
         "sass"
        ],
        [
         "1",
         "programming",
         "visualbasic"
        ],
        [
         "1",
         "programming",
         "bash"
        ],
        [
         "1",
         "programming",
         "c#"
        ],
        [
         "1",
         "programming",
         "css"
        ],
        [
         "1",
         "programming",
         "c"
        ],
        [
         "1",
         "programming",
         "no-sql"
        ],
        [
         "1",
         "programming",
         "t-sql"
        ],
        [
         "1",
         "programming",
         "assembly"
        ],
        [
         "1",
         "programming",
         "ocaml"
        ],
        [
         "1",
         "programming",
         "scala"
        ],
        [
         "1",
         "programming",
         "mongo"
        ],
        [
         "1",
         "programming",
         "haskell"
        ],
        [
         "1",
         "programming",
         "fortran"
        ],
        [
         "1",
         "programming",
         "crystal"
        ],
        [
         "1",
         "programming",
         "mongodb"
        ],
        [
         "1",
         "programming",
         "ruby"
        ]
       ],
       "shape": {
        "columns": 2,
        "rows": 256
       }
      },
      "text/html": [
       "<div>\n",
       "<style scoped>\n",
       "    .dataframe tbody tr th:only-of-type {\n",
       "        vertical-align: middle;\n",
       "    }\n",
       "\n",
       "    .dataframe tbody tr th {\n",
       "        vertical-align: top;\n",
       "    }\n",
       "\n",
       "    .dataframe thead th {\n",
       "        text-align: right;\n",
       "    }\n",
       "</style>\n",
       "<table border=\"1\" class=\"dataframe\">\n",
       "  <thead>\n",
       "    <tr style=\"text-align: right;\">\n",
       "      <th></th>\n",
       "      <th>technology</th>\n",
       "      <th>skills</th>\n",
       "    </tr>\n",
       "  </thead>\n",
       "  <tbody>\n",
       "    <tr>\n",
       "      <th>0</th>\n",
       "      <td>analyst_tools</td>\n",
       "      <td>ssis</td>\n",
       "    </tr>\n",
       "    <tr>\n",
       "      <th>0</th>\n",
       "      <td>analyst_tools</td>\n",
       "      <td>esquisse</td>\n",
       "    </tr>\n",
       "    <tr>\n",
       "      <th>0</th>\n",
       "      <td>analyst_tools</td>\n",
       "      <td>tableau</td>\n",
       "    </tr>\n",
       "    <tr>\n",
       "      <th>0</th>\n",
       "      <td>analyst_tools</td>\n",
       "      <td>outlook</td>\n",
       "    </tr>\n",
       "    <tr>\n",
       "      <th>0</th>\n",
       "      <td>analyst_tools</td>\n",
       "      <td>powerpoint</td>\n",
       "    </tr>\n",
       "    <tr>\n",
       "      <th>...</th>\n",
       "      <td>...</td>\n",
       "      <td>...</td>\n",
       "    </tr>\n",
       "    <tr>\n",
       "      <th>9</th>\n",
       "      <td>sync</td>\n",
       "      <td>webex</td>\n",
       "    </tr>\n",
       "    <tr>\n",
       "      <th>9</th>\n",
       "      <td>sync</td>\n",
       "      <td>zoom</td>\n",
       "    </tr>\n",
       "    <tr>\n",
       "      <th>9</th>\n",
       "      <td>sync</td>\n",
       "      <td>slack</td>\n",
       "    </tr>\n",
       "    <tr>\n",
       "      <th>9</th>\n",
       "      <td>sync</td>\n",
       "      <td>symphony</td>\n",
       "    </tr>\n",
       "    <tr>\n",
       "      <th>9</th>\n",
       "      <td>sync</td>\n",
       "      <td>ringcentral</td>\n",
       "    </tr>\n",
       "  </tbody>\n",
       "</table>\n",
       "<p>256 rows × 2 columns</p>\n",
       "</div>"
      ],
      "text/plain": [
       "       technology       skills\n",
       "0   analyst_tools         ssis\n",
       "0   analyst_tools     esquisse\n",
       "0   analyst_tools      tableau\n",
       "0   analyst_tools      outlook\n",
       "0   analyst_tools   powerpoint\n",
       "..            ...          ...\n",
       "9            sync        webex\n",
       "9            sync         zoom\n",
       "9            sync        slack\n",
       "9            sync     symphony\n",
       "9            sync  ringcentral\n",
       "\n",
       "[256 rows x 2 columns]"
      ]
     },
     "execution_count": 10,
     "metadata": {},
     "output_type": "execute_result"
    }
   ],
   "source": [
    "df_technology = pd.DataFrame(list(technoogy_dict.items()), columns=['technology', 'skills'])\n",
    "\n",
    "df_technology = df_technology.explode('skills')\n",
    "\n",
    "df_technology"
   ]
  },
  {
   "cell_type": "code",
   "execution_count": 11,
   "id": "a9f689a2",
   "metadata": {},
   "outputs": [],
   "source": [
    "df_plot = df_MLE_skills.merge(df_technology, left_on='job_skills', right_on='skills')"
   ]
  },
  {
   "cell_type": "code",
   "execution_count": 12,
   "id": "4360b861",
   "metadata": {},
   "outputs": [
    {
     "data": {
      "application/vnd.microsoft.datawrangler.viewer.v0+json": {
       "columns": [
        {
         "name": "index",
         "rawType": "int64",
         "type": "integer"
        },
        {
         "name": "skill_count",
         "rawType": "int64",
         "type": "integer"
        },
        {
         "name": "median_salary",
         "rawType": "float64",
         "type": "float"
        },
        {
         "name": "skill_percent",
         "rawType": "float64",
         "type": "float"
        },
        {
         "name": "technology",
         "rawType": "object",
         "type": "string"
        },
        {
         "name": "skills",
         "rawType": "object",
         "type": "string"
        }
       ],
       "conversionMethod": "pd.DataFrame",
       "ref": "dfba0cb3-3e7f-4e73-a67b-850cf409926c",
       "rows": [
        [
         "0",
         "83",
         "150000.0",
         "64.84375",
         "programming",
         "python"
        ],
        [
         "1",
         "48",
         "150000.0",
         "37.5",
         "libraries",
         "tensorflow"
        ],
        [
         "2",
         "46",
         "166000.0",
         "35.9375",
         "libraries",
         "pytorch"
        ],
        [
         "3",
         "34",
         "154812.5",
         "26.5625",
         "cloud",
         "aws"
        ],
        [
         "4",
         "33",
         "166000.0",
         "25.78125",
         "programming",
         "java"
        ],
        [
         "5",
         "27",
         "137388.5",
         "21.09375",
         "programming",
         "sql"
        ],
        [
         "6",
         "21",
         "172500.0",
         "16.40625",
         "libraries",
         "spark"
        ],
        [
         "7",
         "19",
         "137388.5",
         "14.84375",
         "programming",
         "r"
        ],
        [
         "8",
         "17",
         "166000.0",
         "13.28125",
         "programming",
         "go"
        ],
        [
         "9",
         "17",
         "179000.0",
         "13.28125",
         "programming",
         "c++"
        ],
        [
         "10",
         "17",
         "139000.0",
         "13.28125",
         "other",
         "kubernetes"
        ],
        [
         "11",
         "16",
         "158500.0",
         "12.5",
         "cloud",
         "gcp"
        ],
        [
         "12",
         "16",
         "146250.0",
         "12.5",
         "cloud",
         "azure"
        ],
        [
         "13",
         "15",
         "135000.0",
         "11.71875",
         "libraries",
         "scikit-learn"
        ],
        [
         "14",
         "15",
         "152625.0",
         "11.71875",
         "libraries",
         "hadoop"
        ],
        [
         "15",
         "14",
         "123014.5",
         "10.9375",
         "other",
         "docker"
        ]
       ],
       "shape": {
        "columns": 5,
        "rows": 16
       }
      },
      "text/html": [
       "<div>\n",
       "<style scoped>\n",
       "    .dataframe tbody tr th:only-of-type {\n",
       "        vertical-align: middle;\n",
       "    }\n",
       "\n",
       "    .dataframe tbody tr th {\n",
       "        vertical-align: top;\n",
       "    }\n",
       "\n",
       "    .dataframe thead th {\n",
       "        text-align: right;\n",
       "    }\n",
       "</style>\n",
       "<table border=\"1\" class=\"dataframe\">\n",
       "  <thead>\n",
       "    <tr style=\"text-align: right;\">\n",
       "      <th></th>\n",
       "      <th>skill_count</th>\n",
       "      <th>median_salary</th>\n",
       "      <th>skill_percent</th>\n",
       "      <th>technology</th>\n",
       "      <th>skills</th>\n",
       "    </tr>\n",
       "  </thead>\n",
       "  <tbody>\n",
       "    <tr>\n",
       "      <th>0</th>\n",
       "      <td>83</td>\n",
       "      <td>150000.0</td>\n",
       "      <td>64.84375</td>\n",
       "      <td>programming</td>\n",
       "      <td>python</td>\n",
       "    </tr>\n",
       "    <tr>\n",
       "      <th>1</th>\n",
       "      <td>48</td>\n",
       "      <td>150000.0</td>\n",
       "      <td>37.50000</td>\n",
       "      <td>libraries</td>\n",
       "      <td>tensorflow</td>\n",
       "    </tr>\n",
       "    <tr>\n",
       "      <th>2</th>\n",
       "      <td>46</td>\n",
       "      <td>166000.0</td>\n",
       "      <td>35.93750</td>\n",
       "      <td>libraries</td>\n",
       "      <td>pytorch</td>\n",
       "    </tr>\n",
       "    <tr>\n",
       "      <th>3</th>\n",
       "      <td>34</td>\n",
       "      <td>154812.5</td>\n",
       "      <td>26.56250</td>\n",
       "      <td>cloud</td>\n",
       "      <td>aws</td>\n",
       "    </tr>\n",
       "    <tr>\n",
       "      <th>4</th>\n",
       "      <td>33</td>\n",
       "      <td>166000.0</td>\n",
       "      <td>25.78125</td>\n",
       "      <td>programming</td>\n",
       "      <td>java</td>\n",
       "    </tr>\n",
       "    <tr>\n",
       "      <th>5</th>\n",
       "      <td>27</td>\n",
       "      <td>137388.5</td>\n",
       "      <td>21.09375</td>\n",
       "      <td>programming</td>\n",
       "      <td>sql</td>\n",
       "    </tr>\n",
       "    <tr>\n",
       "      <th>6</th>\n",
       "      <td>21</td>\n",
       "      <td>172500.0</td>\n",
       "      <td>16.40625</td>\n",
       "      <td>libraries</td>\n",
       "      <td>spark</td>\n",
       "    </tr>\n",
       "    <tr>\n",
       "      <th>7</th>\n",
       "      <td>19</td>\n",
       "      <td>137388.5</td>\n",
       "      <td>14.84375</td>\n",
       "      <td>programming</td>\n",
       "      <td>r</td>\n",
       "    </tr>\n",
       "    <tr>\n",
       "      <th>8</th>\n",
       "      <td>17</td>\n",
       "      <td>166000.0</td>\n",
       "      <td>13.28125</td>\n",
       "      <td>programming</td>\n",
       "      <td>go</td>\n",
       "    </tr>\n",
       "    <tr>\n",
       "      <th>9</th>\n",
       "      <td>17</td>\n",
       "      <td>179000.0</td>\n",
       "      <td>13.28125</td>\n",
       "      <td>programming</td>\n",
       "      <td>c++</td>\n",
       "    </tr>\n",
       "    <tr>\n",
       "      <th>10</th>\n",
       "      <td>17</td>\n",
       "      <td>139000.0</td>\n",
       "      <td>13.28125</td>\n",
       "      <td>other</td>\n",
       "      <td>kubernetes</td>\n",
       "    </tr>\n",
       "    <tr>\n",
       "      <th>11</th>\n",
       "      <td>16</td>\n",
       "      <td>158500.0</td>\n",
       "      <td>12.50000</td>\n",
       "      <td>cloud</td>\n",
       "      <td>gcp</td>\n",
       "    </tr>\n",
       "    <tr>\n",
       "      <th>12</th>\n",
       "      <td>16</td>\n",
       "      <td>146250.0</td>\n",
       "      <td>12.50000</td>\n",
       "      <td>cloud</td>\n",
       "      <td>azure</td>\n",
       "    </tr>\n",
       "    <tr>\n",
       "      <th>13</th>\n",
       "      <td>15</td>\n",
       "      <td>135000.0</td>\n",
       "      <td>11.71875</td>\n",
       "      <td>libraries</td>\n",
       "      <td>scikit-learn</td>\n",
       "    </tr>\n",
       "    <tr>\n",
       "      <th>14</th>\n",
       "      <td>15</td>\n",
       "      <td>152625.0</td>\n",
       "      <td>11.71875</td>\n",
       "      <td>libraries</td>\n",
       "      <td>hadoop</td>\n",
       "    </tr>\n",
       "    <tr>\n",
       "      <th>15</th>\n",
       "      <td>14</td>\n",
       "      <td>123014.5</td>\n",
       "      <td>10.93750</td>\n",
       "      <td>other</td>\n",
       "      <td>docker</td>\n",
       "    </tr>\n",
       "  </tbody>\n",
       "</table>\n",
       "</div>"
      ],
      "text/plain": [
       "    skill_count  median_salary  skill_percent   technology        skills\n",
       "0            83       150000.0       64.84375  programming        python\n",
       "1            48       150000.0       37.50000    libraries    tensorflow\n",
       "2            46       166000.0       35.93750    libraries       pytorch\n",
       "3            34       154812.5       26.56250        cloud           aws\n",
       "4            33       166000.0       25.78125  programming          java\n",
       "5            27       137388.5       21.09375  programming           sql\n",
       "6            21       172500.0       16.40625    libraries         spark\n",
       "7            19       137388.5       14.84375  programming             r\n",
       "8            17       166000.0       13.28125  programming            go\n",
       "9            17       179000.0       13.28125  programming           c++\n",
       "10           17       139000.0       13.28125        other    kubernetes\n",
       "11           16       158500.0       12.50000        cloud           gcp\n",
       "12           16       146250.0       12.50000        cloud         azure\n",
       "13           15       135000.0       11.71875    libraries  scikit-learn\n",
       "14           15       152625.0       11.71875    libraries        hadoop\n",
       "15           14       123014.5       10.93750        other        docker"
      ]
     },
     "execution_count": 12,
     "metadata": {},
     "output_type": "execute_result"
    }
   ],
   "source": [
    "df_plot"
   ]
  },
  {
   "cell_type": "code",
   "execution_count": 13,
   "id": "b6ce9830",
   "metadata": {},
   "outputs": [
    {
     "data": {
      "image/png": "[encoded data removed]",
      "text/plain": [
       "<Figure size 640x480 with 1 Axes>"
      ]
     },
     "metadata": {},
     "output_type": "display_data"
    }
   ],
   "source": [
    "from adjustText import adjust_text\n",
    "\n",
    "sns.scatterplot(data=df_plot, x='skill_percent', y='median_salary', hue='technology')\n",
    "sns.despine()\n",
    "sns.set_theme(style='ticks')\n",
    "\n",
    "texts = []\n",
    "for i, txt in enumerate(df_plot['skills']):\n",
    "    texts.append(plt.text(df_plot['skill_percent'].iloc[i], df_plot['median_salary'].iloc[i], txt))\n",
    "\n",
    "adjust_text(texts, arrowprops=dict(arrowstyle='->', color='gray'))\n",
    "\n",
    "from matplotlib.ticker import PercentFormatter\n",
    "ax = plt.gca()\n",
    "ax.xaxis.set_major_formatter(PercentFormatter(decimals=0))\n",
    "ax.yaxis.set_major_formatter(plt.FuncFormatter(lambda x, pos: f'${int(x/1000)}K'))\n",
    "\n",
    "plt.xlabel('Percent of Job Postings')\n",
    "plt.ylabel('Median Yearly Salary')\n",
    "plt.title(f'Most Optimal Skills for Machine Learning Engineer in the US')\n",
    "\n",
    "plt.tight_layout()\n",
    "plt.show()"
   ]
  }
 ],
 "metadata": {
  "kernelspec": {
   "display_name": "data_03",
   "language": "python",
   "name": "python3"
  },
  "language_info": {
   "codemirror_mode": {
    "name": "ipython",
    "version": 3
   },
   "file_extension": ".py",
   "mimetype": "text/x-python",
   "name": "python",
   "nbconvert_exporter": "python",
   "pygments_lexer": "ipython3",
   "version": "3.11.11"
  }
 },
 "nbformat": 4,
 "nbformat_minor": 5
}
